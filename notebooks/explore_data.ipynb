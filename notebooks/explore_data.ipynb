{
 "cells": [
  {
   "cell_type": "code",
   "execution_count": 5,
   "metadata": {},
   "outputs": [],
   "source": [
    "# import libraries"
   ]
  },
  {
   "cell_type": "code",
   "execution_count": 6,
   "metadata": {},
   "outputs": [],
   "source": [
    "# investigate data"
   ]
  },
  {
   "cell_type": "code",
   "execution_count": 19,
   "metadata": {},
   "outputs": [
    {
     "name": "stdout",
     "output_type": "stream",
     "text": [
      "wrote table {Employee} to file {..\\data\\Employee.csv}.\n",
      "wrote table {Category} to file {..\\data\\Category.csv}.\n",
      "wrote table {Customer} to file {..\\data\\Customer.csv}.\n",
      "wrote table {Shipper} to file {..\\data\\Shipper.csv}.\n",
      "wrote table {Supplier} to file {..\\data\\Supplier.csv}.\n",
      "wrote table {Product} to file {..\\data\\Product.csv}.\n",
      "wrote table {OrderDetail} to file {..\\data\\OrderDetail.csv}.\n",
      "wrote table {CustomerCustomerDemo} to file {..\\data\\CustomerCustomerDemo.csv}.\n",
      "wrote table {CustomerDemographic} to file {..\\data\\CustomerDemographic.csv}.\n",
      "wrote table {Region} to file {..\\data\\Region.csv}.\n",
      "wrote table {Territory} to file {..\\data\\Territory.csv}.\n",
      "wrote table {EmployeeTerritory} to file {..\\data\\EmployeeTerritory.csv}.\n",
      "['FAILED to execute query {SELECT * from Order}']\n"
     ]
    }
   ],
   "source": [
    "import sqlite3\n",
    "import pandas as pd\n",
    "\n",
    "\n",
    "def to_csv():\n",
    "    db = sqlite3.connect(r'..\\data\\northWind.sqlite')\n",
    "    cursor = db.cursor()\n",
    "    cursor.execute(\"SELECT name FROM sqlite_master WHERE type='table';\")\n",
    "    tables = cursor.fetchall()\n",
    "    errors_list = []\n",
    "    for table_name in tables:\n",
    "        table_name = table_name[0]\n",
    "        \n",
    "        this_query = \"SELECT * from %s\" % table_name\n",
    "        \n",
    "        table = None\n",
    "        try:\n",
    "            table = pd.read_sql_query(this_query, db)\n",
    "        except:\n",
    "            errors_list.append(\"failed to execute query {\" + this_query + \"}\")\n",
    "            \n",
    "        if isinstance(table, pd.core.frame.DataFrame):\n",
    "            csvPath = \"\".join([\"..\", \"\\\\\", \"data\", \"\\\\\", table_name, \".csv\"])\n",
    "            \n",
    "            wrote_csv = False\n",
    "            try:\n",
    "                table.to_csv(csvPath, index_label='index')\n",
    "                wrote_csv = True\n",
    "            except:\n",
    "                pass\n",
    "\n",
    "            if wrote_csv:\n",
    "                print(\"wrote table {\" + table_name + \"} to file {\" + csvPath + \"}.\")\n",
    "            else:\n",
    "                errors_list.append(\"failed to write table {\" + table_name + \"} to file {\" + csvPath + \"}\")\n",
    "                \n",
    "    cursor.close()\n",
    "    db.close()\n",
    "    return errors_list\n",
    "\n",
    "print(to_csv())"
   ]
  },
  {
   "cell_type": "code",
   "execution_count": null,
   "metadata": {},
   "outputs": [],
   "source": []
  },
  {
   "cell_type": "code",
   "execution_count": null,
   "metadata": {},
   "outputs": [],
   "source": []
  },
  {
   "cell_type": "code",
   "execution_count": null,
   "metadata": {},
   "outputs": [],
   "source": []
  },
  {
   "cell_type": "code",
   "execution_count": null,
   "metadata": {},
   "outputs": [],
   "source": []
  },
  {
   "cell_type": "markdown",
   "metadata": {},
   "source": [
    "# Question 1: Is there a difference in quantity of products sold by discount rate? "
   ]
  },
  {
   "cell_type": "code",
   "execution_count": 2,
   "metadata": {},
   "outputs": [],
   "source": [
    "# obtain necessary data"
   ]
  },
  {
   "cell_type": "markdown",
   "metadata": {},
   "source": [
    "## {Put test name here}\n",
    "H0: \n",
    "\n",
    "HA:"
   ]
  },
  {
   "cell_type": "code",
   "execution_count": 4,
   "metadata": {},
   "outputs": [],
   "source": [
    "# perform test"
   ]
  },
  {
   "cell_type": "markdown",
   "metadata": {},
   "source": [
    "## Conclusion"
   ]
  },
  {
   "cell_type": "code",
   "execution_count": null,
   "metadata": {},
   "outputs": [],
   "source": []
  },
  {
   "cell_type": "markdown",
   "metadata": {},
   "source": [
    "## EffectSize/PowerAnalysis/Tukey Testing (if needed)"
   ]
  },
  {
   "cell_type": "code",
   "execution_count": null,
   "metadata": {},
   "outputs": [],
   "source": []
  },
  {
   "cell_type": "markdown",
   "metadata": {},
   "source": [
    "# Question 2: Is there a difference in number of orders and territory? "
   ]
  },
  {
   "cell_type": "code",
   "execution_count": 2,
   "metadata": {},
   "outputs": [],
   "source": [
    "# obtain necessary data"
   ]
  },
  {
   "cell_type": "markdown",
   "metadata": {},
   "source": [
    "## {Put test name here}\n",
    "H0: \n",
    "\n",
    "HA:"
   ]
  },
  {
   "cell_type": "code",
   "execution_count": 4,
   "metadata": {},
   "outputs": [],
   "source": [
    "# perform test"
   ]
  },
  {
   "cell_type": "markdown",
   "metadata": {},
   "source": [
    "## Conclusion"
   ]
  },
  {
   "cell_type": "code",
   "execution_count": null,
   "metadata": {},
   "outputs": [],
   "source": []
  },
  {
   "cell_type": "markdown",
   "metadata": {},
   "source": [
    "# Question 3: {You decide}"
   ]
  },
  {
   "cell_type": "code",
   "execution_count": 2,
   "metadata": {},
   "outputs": [],
   "source": [
    "# obtain necessary data"
   ]
  },
  {
   "cell_type": "markdown",
   "metadata": {},
   "source": [
    "## {Put test name here}\n",
    "H0: \n",
    "\n",
    "HA:"
   ]
  },
  {
   "cell_type": "code",
   "execution_count": 4,
   "metadata": {},
   "outputs": [],
   "source": [
    "# perform test"
   ]
  },
  {
   "cell_type": "markdown",
   "metadata": {},
   "source": [
    "## Conclusion"
   ]
  },
  {
   "cell_type": "code",
   "execution_count": null,
   "metadata": {},
   "outputs": [],
   "source": []
  },
  {
   "cell_type": "markdown",
   "metadata": {},
   "source": [
    "## EffectSize/PowerAnalysis/Tukey Testing (if needed)"
   ]
  },
  {
   "cell_type": "code",
   "execution_count": null,
   "metadata": {},
   "outputs": [],
   "source": []
  }
 ],
 "metadata": {
  "kernelspec": {
   "display_name": "learn-env",
   "language": "python",
   "name": "learn-env"
  },
  "language_info": {
   "codemirror_mode": {
    "name": "ipython",
    "version": 3
   },
   "file_extension": ".py",
   "mimetype": "text/x-python",
   "name": "python",
   "nbconvert_exporter": "python",
   "pygments_lexer": "ipython3",
   "version": "3.6.10"
  }
 },
 "nbformat": 4,
 "nbformat_minor": 2
}
